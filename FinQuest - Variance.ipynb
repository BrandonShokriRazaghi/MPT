{
 "cells": [
  {
   "cell_type": "code",
   "execution_count": 1,
   "metadata": {},
   "outputs": [],
   "source": [
    "import quandl\n",
    "quandl.ApiConfig.api_key = \"d74vRZ6prcs1hPREziKz\"\n",
    "import numpy as np\n",
    "import pandas as pd"
   ]
  },
  {
   "cell_type": "code",
   "execution_count": 2,
   "metadata": {},
   "outputs": [],
   "source": [
    "prices = quandl.get_table('SHARADAR/SEP', ticker=['AAPL', 'KO', 'NKE', 'TSLA', 'XOM'], date={'gte':'2017-01-01', 'lte':'2018-12-31'}, paginate=True)"
   ]
  },
  {
   "cell_type": "code",
   "execution_count": 3,
   "metadata": {},
   "outputs": [
    {
     "data": {
      "text/html": [
       "<div>\n",
       "<style scoped>\n",
       "    .dataframe tbody tr th:only-of-type {\n",
       "        vertical-align: middle;\n",
       "    }\n",
       "\n",
       "    .dataframe tbody tr th {\n",
       "        vertical-align: top;\n",
       "    }\n",
       "\n",
       "    .dataframe thead th {\n",
       "        text-align: right;\n",
       "    }\n",
       "</style>\n",
       "<table border=\"1\" class=\"dataframe\">\n",
       "  <thead>\n",
       "    <tr style=\"text-align: right;\">\n",
       "      <th></th>\n",
       "      <th>ticker</th>\n",
       "      <th>date</th>\n",
       "      <th>open</th>\n",
       "      <th>high</th>\n",
       "      <th>low</th>\n",
       "      <th>close</th>\n",
       "      <th>volume</th>\n",
       "      <th>dividends</th>\n",
       "      <th>closeunadj</th>\n",
       "      <th>lastupdated</th>\n",
       "    </tr>\n",
       "    <tr>\n",
       "      <th>None</th>\n",
       "      <th></th>\n",
       "      <th></th>\n",
       "      <th></th>\n",
       "      <th></th>\n",
       "      <th></th>\n",
       "      <th></th>\n",
       "      <th></th>\n",
       "      <th></th>\n",
       "      <th></th>\n",
       "      <th></th>\n",
       "    </tr>\n",
       "  </thead>\n",
       "  <tbody>\n",
       "    <tr>\n",
       "      <th>0</th>\n",
       "      <td>XOM</td>\n",
       "      <td>2018-12-31</td>\n",
       "      <td>68.32</td>\n",
       "      <td>69.145</td>\n",
       "      <td>67.66</td>\n",
       "      <td>68.19</td>\n",
       "      <td>15609337.0</td>\n",
       "      <td>0.0</td>\n",
       "      <td>68.19</td>\n",
       "      <td>2018-12-31</td>\n",
       "    </tr>\n",
       "    <tr>\n",
       "      <th>1</th>\n",
       "      <td>XOM</td>\n",
       "      <td>2018-12-28</td>\n",
       "      <td>69.18</td>\n",
       "      <td>69.580</td>\n",
       "      <td>67.82</td>\n",
       "      <td>68.17</td>\n",
       "      <td>19617793.0</td>\n",
       "      <td>0.0</td>\n",
       "      <td>68.17</td>\n",
       "      <td>2018-12-28</td>\n",
       "    </tr>\n",
       "    <tr>\n",
       "      <th>2</th>\n",
       "      <td>XOM</td>\n",
       "      <td>2018-12-27</td>\n",
       "      <td>67.74</td>\n",
       "      <td>68.940</td>\n",
       "      <td>66.08</td>\n",
       "      <td>68.94</td>\n",
       "      <td>21315318.0</td>\n",
       "      <td>0.0</td>\n",
       "      <td>68.94</td>\n",
       "      <td>2018-12-27</td>\n",
       "    </tr>\n",
       "    <tr>\n",
       "      <th>3</th>\n",
       "      <td>XOM</td>\n",
       "      <td>2018-12-26</td>\n",
       "      <td>66.18</td>\n",
       "      <td>68.655</td>\n",
       "      <td>64.65</td>\n",
       "      <td>68.64</td>\n",
       "      <td>24403048.0</td>\n",
       "      <td>0.0</td>\n",
       "      <td>68.64</td>\n",
       "      <td>2018-12-26</td>\n",
       "    </tr>\n",
       "    <tr>\n",
       "      <th>4</th>\n",
       "      <td>XOM</td>\n",
       "      <td>2018-12-24</td>\n",
       "      <td>66.87</td>\n",
       "      <td>67.530</td>\n",
       "      <td>65.44</td>\n",
       "      <td>65.51</td>\n",
       "      <td>14262074.0</td>\n",
       "      <td>0.0</td>\n",
       "      <td>65.51</td>\n",
       "      <td>2018-12-28</td>\n",
       "    </tr>\n",
       "  </tbody>\n",
       "</table>\n",
       "</div>"
      ],
      "text/plain": [
       "     ticker       date   open    high    low  close      volume  dividends  \\\n",
       "None                                                                         \n",
       "0       XOM 2018-12-31  68.32  69.145  67.66  68.19  15609337.0        0.0   \n",
       "1       XOM 2018-12-28  69.18  69.580  67.82  68.17  19617793.0        0.0   \n",
       "2       XOM 2018-12-27  67.74  68.940  66.08  68.94  21315318.0        0.0   \n",
       "3       XOM 2018-12-26  66.18  68.655  64.65  68.64  24403048.0        0.0   \n",
       "4       XOM 2018-12-24  66.87  67.530  65.44  65.51  14262074.0        0.0   \n",
       "\n",
       "      closeunadj lastupdated  \n",
       "None                          \n",
       "0          68.19  2018-12-31  \n",
       "1          68.17  2018-12-28  \n",
       "2          68.94  2018-12-27  \n",
       "3          68.64  2018-12-26  \n",
       "4          65.51  2018-12-28  "
      ]
     },
     "execution_count": 3,
     "metadata": {},
     "output_type": "execute_result"
    }
   ],
   "source": [
    "prices.head()"
   ]
  },
  {
   "cell_type": "code",
   "execution_count": 4,
   "metadata": {},
   "outputs": [],
   "source": [
    "pivoted = prices.pivot(index='date', columns='ticker', values='close')"
   ]
  },
  {
   "cell_type": "code",
   "execution_count": 5,
   "metadata": {},
   "outputs": [
    {
     "data": {
      "text/html": [
       "<div>\n",
       "<style scoped>\n",
       "    .dataframe tbody tr th:only-of-type {\n",
       "        vertical-align: middle;\n",
       "    }\n",
       "\n",
       "    .dataframe tbody tr th {\n",
       "        vertical-align: top;\n",
       "    }\n",
       "\n",
       "    .dataframe thead th {\n",
       "        text-align: right;\n",
       "    }\n",
       "</style>\n",
       "<table border=\"1\" class=\"dataframe\">\n",
       "  <thead>\n",
       "    <tr style=\"text-align: right;\">\n",
       "      <th>ticker</th>\n",
       "      <th>AAPL</th>\n",
       "      <th>KO</th>\n",
       "      <th>NKE</th>\n",
       "      <th>TSLA</th>\n",
       "      <th>XOM</th>\n",
       "    </tr>\n",
       "    <tr>\n",
       "      <th>date</th>\n",
       "      <th></th>\n",
       "      <th></th>\n",
       "      <th></th>\n",
       "      <th></th>\n",
       "      <th></th>\n",
       "    </tr>\n",
       "  </thead>\n",
       "  <tbody>\n",
       "    <tr>\n",
       "      <th>2017-01-03</th>\n",
       "      <td>116.15</td>\n",
       "      <td>41.80</td>\n",
       "      <td>51.98</td>\n",
       "      <td>216.99</td>\n",
       "      <td>90.89</td>\n",
       "    </tr>\n",
       "    <tr>\n",
       "      <th>2017-01-04</th>\n",
       "      <td>116.02</td>\n",
       "      <td>41.65</td>\n",
       "      <td>53.07</td>\n",
       "      <td>226.99</td>\n",
       "      <td>89.89</td>\n",
       "    </tr>\n",
       "    <tr>\n",
       "      <th>2017-01-05</th>\n",
       "      <td>116.61</td>\n",
       "      <td>41.75</td>\n",
       "      <td>53.06</td>\n",
       "      <td>226.75</td>\n",
       "      <td>88.55</td>\n",
       "    </tr>\n",
       "    <tr>\n",
       "      <th>2017-01-06</th>\n",
       "      <td>117.91</td>\n",
       "      <td>41.74</td>\n",
       "      <td>53.91</td>\n",
       "      <td>229.01</td>\n",
       "      <td>88.50</td>\n",
       "    </tr>\n",
       "    <tr>\n",
       "      <th>2017-01-09</th>\n",
       "      <td>118.99</td>\n",
       "      <td>41.32</td>\n",
       "      <td>53.38</td>\n",
       "      <td>231.28</td>\n",
       "      <td>87.04</td>\n",
       "    </tr>\n",
       "  </tbody>\n",
       "</table>\n",
       "</div>"
      ],
      "text/plain": [
       "ticker        AAPL     KO    NKE    TSLA    XOM\n",
       "date                                           \n",
       "2017-01-03  116.15  41.80  51.98  216.99  90.89\n",
       "2017-01-04  116.02  41.65  53.07  226.99  89.89\n",
       "2017-01-05  116.61  41.75  53.06  226.75  88.55\n",
       "2017-01-06  117.91  41.74  53.91  229.01  88.50\n",
       "2017-01-09  118.99  41.32  53.38  231.28  87.04"
      ]
     },
     "execution_count": 5,
     "metadata": {},
     "output_type": "execute_result"
    }
   ],
   "source": [
    "pivoted.head()"
   ]
  },
  {
   "cell_type": "markdown",
   "metadata": {},
   "source": [
    "# Variance"
   ]
  },
  {
   "cell_type": "markdown",
   "metadata": {},
   "source": [
    "$$s^2 = \\frac{\\sum_{i=1}^N (x_i - \\bar{x})^2}{N-1}$$"
   ]
  },
  {
   "cell_type": "code",
   "execution_count": 9,
   "metadata": {},
   "outputs": [
    {
     "data": {
      "text/plain": [
       "date\n",
       "2017-01-03         NaN\n",
       "2017-01-04   -0.001120\n",
       "2017-01-05    0.005072\n",
       "2017-01-06    0.011087\n",
       "2017-01-09    0.009118\n",
       "Name: AAPL, dtype: float64"
      ]
     },
     "execution_count": 9,
     "metadata": {},
     "output_type": "execute_result"
    }
   ],
   "source": [
    "aapl = pivoted['AAPL'].pct_change().apply(lambda x: np.log(1+x))\n",
    "aapl.head()"
   ]
  },
  {
   "cell_type": "code",
   "execution_count": 10,
   "metadata": {},
   "outputs": [
    {
     "data": {
      "text/plain": [
       "0.0006109094785497567"
      ]
     },
     "execution_count": 10,
     "metadata": {},
     "output_type": "execute_result"
    }
   ],
   "source": [
    "mean_aapl = aapl.sum()/aapl.count()\n",
    "mean_aapl"
   ]
  },
  {
   "cell_type": "code",
   "execution_count": 12,
   "metadata": {},
   "outputs": [
    {
     "data": {
      "text/plain": [
       "date\n",
       "2017-01-03         NaN\n",
       "2017-01-04    0.000003\n",
       "2017-01-05    0.000020\n",
       "2017-01-06    0.000110\n",
       "2017-01-09    0.000072\n",
       "Name: AAPL, dtype: float64"
      ]
     },
     "execution_count": 12,
     "metadata": {},
     "output_type": "execute_result"
    }
   ],
   "source": [
    "sqd_aapl = aapl.apply(lambda x: (x-mean_aapl)**2)\n",
    "sqd_aapl.head()"
   ]
  },
  {
   "cell_type": "code",
   "execution_count": 13,
   "metadata": {},
   "outputs": [
    {
     "data": {
      "text/plain": [
       "0.11329941775245922"
      ]
     },
     "execution_count": 13,
     "metadata": {},
     "output_type": "execute_result"
    }
   ],
   "source": [
    "ssqd_aapl = sqd_aapl.sum()\n",
    "ssqd_aapl"
   ]
  },
  {
   "cell_type": "code",
   "execution_count": 14,
   "metadata": {},
   "outputs": [
    {
     "data": {
      "text/plain": [
       "0.00022659883550491843"
      ]
     },
     "execution_count": 14,
     "metadata": {},
     "output_type": "execute_result"
    }
   ],
   "source": [
    "var_aapl = ssqd_aapl/(aapl.count()-1)\n",
    "var_aapl"
   ]
  },
  {
   "cell_type": "code",
   "execution_count": 15,
   "metadata": {},
   "outputs": [
    {
     "data": {
      "text/plain": [
       "0.00022659883550491843"
      ]
     },
     "execution_count": 15,
     "metadata": {},
     "output_type": "execute_result"
    }
   ],
   "source": [
    "aapl.var()"
   ]
  },
  {
   "cell_type": "code",
   "execution_count": null,
   "metadata": {},
   "outputs": [],
   "source": []
  }
 ],
 "metadata": {
  "kernelspec": {
   "display_name": "Python 3",
   "language": "python",
   "name": "python3"
  },
  "language_info": {
   "codemirror_mode": {
    "name": "ipython",
    "version": 3
   },
   "file_extension": ".py",
   "mimetype": "text/x-python",
   "name": "python",
   "nbconvert_exporter": "python",
   "pygments_lexer": "ipython3",
   "version": "3.7.0"
  }
 },
 "nbformat": 4,
 "nbformat_minor": 2
}
